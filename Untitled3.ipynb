{
 "cells": [
  {
   "cell_type": "code",
   "execution_count": 1,
   "metadata": {},
   "outputs": [
    {
     "name": "stdout",
     "output_type": "stream",
     "text": [
      "enter 'x' to exit.\n",
      "enter first number: 25\n",
      "enter the second number: 63\n",
      "enter the operator (+, -, *, /):+\n",
      "result = 88\n"
     ]
    }
   ],
   "source": [
    "#calculator\n",
    "print(\"enter 'x' to exit.\");\n",
    "num1 = input(\"enter first number: \");\n",
    "if num1 == 'x' :\n",
    "    exit();\n",
    "else:\n",
    "    num2 = input(\"enter the second number: \");\n",
    "    ch = input(\"enter the operator (+, -, *, /):\");\n",
    "    if ch == \"+\":\n",
    "      res = int(num1) + int(num2);\n",
    "    elif ch == '-':\n",
    "      res = int(num1) - int(num2);\n",
    "    elif ch == '*':\n",
    "      res =  int(num1) * int(num2);\n",
    "    elif ch == '/':\n",
    "      res = int(num1) / int(num2);\n",
    "    else:\n",
    "      print('strange input!!');\n",
    "      exit();\n",
    "print(\"result =\",res);\n",
    "    "
   ]
  },
  {
   "cell_type": "code",
   "execution_count": 2,
   "metadata": {},
   "outputs": [
    {
     "name": "stdout",
     "output_type": "stream",
     "text": [
      "Attendence details of all the divisions...\n",
      "{'A': 30, 'B': 43, 'C': 38, 'D': 35, 'E': 37}\n",
      "Total Attendence :  183\n"
     ]
    }
   ],
   "source": [
    "details={'A':30,'B':43,'C':38,'D':35,'E':37}\n",
    "print('Attendence details of all the divisions...')\n",
    "print(details)\n",
    "tot=sum(details.values())\n",
    "print('Total Attendence : ',tot)"
   ]
  },
  {
   "cell_type": "code",
   "execution_count": null,
   "metadata": {},
   "outputs": [],
   "source": []
  }
 ],
 "metadata": {
  "kernelspec": {
   "display_name": "Python 3",
   "language": "python",
   "name": "python3"
  },
  "language_info": {
   "codemirror_mode": {
    "name": "ipython",
    "version": 3
   },
   "file_extension": ".py",
   "mimetype": "text/x-python",
   "name": "python",
   "nbconvert_exporter": "python",
   "pygments_lexer": "ipython3",
   "version": "3.7.4"
  }
 },
 "nbformat": 4,
 "nbformat_minor": 2
}
